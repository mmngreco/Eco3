{
 "cells": [
  {
   "cell_type": "markdown",
   "metadata": {},
   "source": [
    "EJERCICIOS PRIMERA PARTE"
   ]
  },
  {
   "cell_type": "code",
   "execution_count": 4,
   "metadata": {
    "collapsed": true
   },
   "outputs": [],
   "source": [
    "from numpy import *"
   ]
  },
  {
   "cell_type": "code",
   "execution_count": 23,
   "metadata": {
    "collapsed": true
   },
   "outputs": [],
   "source": [
    "f_xy = array([0.037, 0.622, 0.009, 0.332])\n",
    "xi = array([0,1])\n",
    "yi = xi"
   ]
  },
  {
   "cell_type": "code",
   "execution_count": 41,
   "metadata": {
    "collapsed": true
   },
   "outputs": [],
   "source": [
    "s = '''\n",
    "Distribución = %s\n",
    "Esperanza = %s\n",
    "Varianza = %s\n",
    "'''"
   ]
  },
  {
   "cell_type": "code",
   "execution_count": 42,
   "metadata": {
    "collapsed": false
   },
   "outputs": [
    {
     "data": {
      "text/plain": [
       "array([[ 0.037,  0.622],\n",
       "       [ 0.009,  0.332]])"
      ]
     },
     "execution_count": 42,
     "metadata": {},
     "output_type": "execute_result"
    }
   ],
   "source": [
    "f_xy = f_xy.reshape(2,2)\n",
    "f_xy"
   ]
  },
  {
   "cell_type": "code",
   "execution_count": 43,
   "metadata": {
    "collapsed": false
   },
   "outputs": [
    {
     "name": "stdout",
     "output_type": "stream",
     "text": [
      "\n",
      "Distribución = [ 0.046  0.954]\n",
      "Esperanza = 0.954\n",
      "Varianza = 0.043884\n",
      "\n"
     ]
    }
   ],
   "source": [
    "f_y = sum(f_xy, axis=0)\n",
    "e_y = sum(yi * f_y)\n",
    "v_y = sum((yi - e_y) ** 2 * f_y)\n",
    "\n",
    "print(s % (f_y, e_y, v_y))"
   ]
  },
  {
   "cell_type": "code",
   "execution_count": 44,
   "metadata": {
    "collapsed": false
   },
   "outputs": [
    {
     "name": "stdout",
     "output_type": "stream",
     "text": [
      "\n",
      "Distribución = [ 0.659  0.341]\n",
      "Esperanza = 0.341\n",
      "Varianza = 0.224719\n",
      "\n"
     ]
    }
   ],
   "source": [
    "f_x = sum(f_xy, axis=1)\n",
    "e_x = sum(xi * f_x)\n",
    "v_x = sum((xi - e_x) ** 2 * f_x)\n",
    "\n",
    "print(s % (f_x, e_x, v_x))"
   ]
  },
  {
   "cell_type": "code",
   "execution_count": 58,
   "metadata": {
    "collapsed": false
   },
   "outputs": [
    {
     "name": "stdout",
     "output_type": "stream",
     "text": [
      "\n",
      "Distribución = [ 0.05614568  0.94385432]\n",
      "Esperanza = 0.943854324734\n",
      "Varianza = 0.0529933384145\n",
      "\n"
     ]
    }
   ],
   "source": [
    "f_yx_o = f_xy[0] / f_x[0]\n",
    "e_yx_o = sum(yi * f_yx_o)\n",
    "v_yx_o = sum((yi - e_yx_o) ** 2 * f_yx_o)\n",
    "\n",
    "print(s % (f_yx_o, e_yx_o, v_yx_o))"
   ]
  },
  {
   "cell_type": "code",
   "execution_count": 62,
   "metadata": {
    "collapsed": false
   },
   "outputs": [
    {
     "name": "stdout",
     "output_type": "stream",
     "text": [
      "\n",
      "Distribución = [ 0.02639296  0.97360704]\n",
      "Esperanza = 0.973607038123\n",
      "Varianza = 0.0256963734402\n",
      "\n",
      "[ 0.009  0.332] 0.341\n"
     ]
    }
   ],
   "source": [
    "f_yx_1 = f_xy[1] / f_x[1]\n",
    "e_yx_1 = sum(yi * f_yx_1)\n",
    "v_yx_1 = sum((yi - e_yx_1) ** 2 * f_yx_1)\n",
    "\n",
    "print(s % (f_yx_1, e_yx_1, v_yx_1))\n",
    "print(f_xy[1], f_x[1])"
   ]
  },
  {
   "cell_type": "code",
   "execution_count": 66,
   "metadata": {
    "collapsed": false
   },
   "outputs": [
    {
     "data": {
      "text/plain": [
       "(0.012036617999999999,\n",
       " 0.108004248,\n",
       " -0.0097566920000000199,\n",
       " -0.0056581739999999993)"
      ]
     },
     "execution_count": 66,
     "metadata": {},
     "output_type": "execute_result"
    }
   ],
   "source": [
    "(e_x * e_y) * f_xy[0,0], (e_x * e_y) * f_xy[1,1], (e_x * e_y - e_x) * f_xy[0,1], (e_x * e_y - e_y) * f_xy[1,0]"
   ]
  },
  {
   "cell_type": "code",
   "execution_count": 67,
   "metadata": {
    "collapsed": false
   },
   "outputs": [
    {
     "data": {
      "text/plain": [
       "0.10462599999999997"
      ]
     },
     "execution_count": 67,
     "metadata": {},
     "output_type": "execute_result"
    }
   ],
   "source": [
    "sum(_)"
   ]
  },
  {
   "cell_type": "code",
   "execution_count": 64,
   "metadata": {
    "collapsed": false
   },
   "outputs": [
    {
     "data": {
      "text/plain": [
       "0.046235209341230085"
      ]
     },
     "execution_count": 64,
     "metadata": {},
     "output_type": "execute_result"
    }
   ],
   "source": [
    "_ / sqrt(v_x) * sqrt(v_y)"
   ]
  },
  {
   "cell_type": "code",
   "execution_count": null,
   "metadata": {
    "collapsed": true
   },
   "outputs": [],
   "source": []
  }
 ],
 "metadata": {
  "kernelspec": {
   "display_name": "Python 3",
   "language": "python",
   "name": "python3"
  },
  "language_info": {
   "codemirror_mode": {
    "name": "ipython",
    "version": 3
   },
   "file_extension": ".py",
   "mimetype": "text/x-python",
   "name": "python",
   "nbconvert_exporter": "python",
   "pygments_lexer": "ipython3",
   "version": "3.5.0"
  },
  "latex_envs": {
   "bibliofile": "biblio.bib",
   "cite_by": "apalike",
   "current_citInitial": 1,
   "eqLabelWithNumbers": true,
   "eqNumInitial": 0
  }
 },
 "nbformat": 4,
 "nbformat_minor": 0
}
