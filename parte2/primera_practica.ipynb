{
 "cells": [
  {
   "cell_type": "code",
   "execution_count": 1,
   "metadata": {
    "collapsed": true
   },
   "outputs": [],
   "source": [
    "import pandas as pd\n",
    "from statsmodels.formula.api import ols\n",
    "import statsmodels.api as sm\n",
    "import statsmodels.stats.api as sms\n",
    "import numpy as np\n",
    "import seaborn as sns\n",
    "import matplotlib.pyplot as plt"
   ]
  },
  {
   "cell_type": "code",
   "execution_count": 2,
   "metadata": {
    "collapsed": true
   },
   "outputs": [],
   "source": [
    "%matplotlib inline"
   ]
  },
  {
   "cell_type": "code",
   "execution_count": 3,
   "metadata": {
    "collapsed": false
   },
   "outputs": [
    {
     "data": {
      "text/plain": [
       "'%.4f'"
      ]
     },
     "execution_count": 3,
     "metadata": {},
     "output_type": "execute_result"
    }
   ],
   "source": [
    "%precision 4"
   ]
  },
  {
   "cell_type": "code",
   "execution_count": 4,
   "metadata": {
    "collapsed": false
   },
   "outputs": [],
   "source": [
    "d = pd.read_excel('Salarios-Educacion.xls')"
   ]
  },
  {
   "cell_type": "code",
   "execution_count": 5,
   "metadata": {
    "collapsed": false
   },
   "outputs": [
    {
     "data": {
      "text/html": [
       "<div>\n",
       "<table border=\"1\" class=\"dataframe\">\n",
       "  <thead>\n",
       "    <tr style=\"text-align: right;\">\n",
       "      <th></th>\n",
       "      <th>SAL</th>\n",
       "      <th>EDUC</th>\n",
       "      <th>EXPER</th>\n",
       "      <th>HRSWK</th>\n",
       "      <th>MARRIED</th>\n",
       "      <th>FEMALE</th>\n",
       "      <th>METRO</th>\n",
       "      <th>MID</th>\n",
       "      <th>SOUTH</th>\n",
       "      <th>WEST</th>\n",
       "      <th>BLACK</th>\n",
       "      <th>ASIAN</th>\n",
       "    </tr>\n",
       "  </thead>\n",
       "  <tbody>\n",
       "    <tr>\n",
       "      <th>0</th>\n",
       "      <td>18.70</td>\n",
       "      <td>16</td>\n",
       "      <td>39</td>\n",
       "      <td>37</td>\n",
       "      <td>1</td>\n",
       "      <td>1</td>\n",
       "      <td>1</td>\n",
       "      <td>0</td>\n",
       "      <td>1</td>\n",
       "      <td>0</td>\n",
       "      <td>0</td>\n",
       "      <td>0</td>\n",
       "    </tr>\n",
       "    <tr>\n",
       "      <th>1</th>\n",
       "      <td>11.50</td>\n",
       "      <td>12</td>\n",
       "      <td>16</td>\n",
       "      <td>62</td>\n",
       "      <td>0</td>\n",
       "      <td>0</td>\n",
       "      <td>0</td>\n",
       "      <td>1</td>\n",
       "      <td>0</td>\n",
       "      <td>0</td>\n",
       "      <td>0</td>\n",
       "      <td>0</td>\n",
       "    </tr>\n",
       "    <tr>\n",
       "      <th>2</th>\n",
       "      <td>15.04</td>\n",
       "      <td>16</td>\n",
       "      <td>13</td>\n",
       "      <td>40</td>\n",
       "      <td>1</td>\n",
       "      <td>0</td>\n",
       "      <td>1</td>\n",
       "      <td>0</td>\n",
       "      <td>0</td>\n",
       "      <td>1</td>\n",
       "      <td>1</td>\n",
       "      <td>0</td>\n",
       "    </tr>\n",
       "    <tr>\n",
       "      <th>3</th>\n",
       "      <td>25.95</td>\n",
       "      <td>14</td>\n",
       "      <td>11</td>\n",
       "      <td>40</td>\n",
       "      <td>0</td>\n",
       "      <td>1</td>\n",
       "      <td>1</td>\n",
       "      <td>0</td>\n",
       "      <td>1</td>\n",
       "      <td>0</td>\n",
       "      <td>1</td>\n",
       "      <td>0</td>\n",
       "    </tr>\n",
       "    <tr>\n",
       "      <th>4</th>\n",
       "      <td>24.03</td>\n",
       "      <td>12</td>\n",
       "      <td>51</td>\n",
       "      <td>40</td>\n",
       "      <td>1</td>\n",
       "      <td>0</td>\n",
       "      <td>1</td>\n",
       "      <td>0</td>\n",
       "      <td>0</td>\n",
       "      <td>0</td>\n",
       "      <td>0</td>\n",
       "      <td>0</td>\n",
       "    </tr>\n",
       "  </tbody>\n",
       "</table>\n",
       "</div>"
      ],
      "text/plain": [
       "     SAL  EDUC  EXPER  HRSWK  MARRIED  FEMALE  METRO  MID  SOUTH  WEST  BLACK  \\\n",
       "0  18.70    16     39     37        1       1      1    0      1     0      0   \n",
       "1  11.50    12     16     62        0       0      0    1      0     0      0   \n",
       "2  15.04    16     13     40        1       0      1    0      0     1      1   \n",
       "3  25.95    14     11     40        0       1      1    0      1     0      1   \n",
       "4  24.03    12     51     40        1       0      1    0      0     0      0   \n",
       "\n",
       "   ASIAN  \n",
       "0      0  \n",
       "1      0  \n",
       "2      0  \n",
       "3      0  \n",
       "4      0  "
      ]
     },
     "execution_count": 5,
     "metadata": {},
     "output_type": "execute_result"
    }
   ],
   "source": [
    "d.head()"
   ]
  },
  {
   "cell_type": "markdown",
   "metadata": {},
   "source": [
    "# Ejercicio empírico 2.4\n",
    "\n",
    "El fichero “Salarios‐Educacion.xls” tiene mil observaciones correspondientes a diferentes individuos con información sobre salarios horarios (SAL), educación en años (EDUC), experiencia en años (EXPER), horas trabajadas a la semana (HRSWK), MARRIED (= 1 si casado), FEMALE (= 1 si mujer), METRO (= 1 si vive en zona metropolitana), MID(= 1 si vive en el medio oeste), SOUTH (= 1 si vive en el sur), WEST(= 1 si vive en el oeste), BLACK(= 1 si es negro) y ASIAN (= 1 si es asiático) para el año 2008. Se pide:"
   ]
  },
  {
   "cell_type": "markdown",
   "metadata": {},
   "source": [
    "## 1) Discutir las características de los datos de SAL y EDUC. Estadísticos e histograma."
   ]
  },
  {
   "cell_type": "code",
   "execution_count": 6,
   "metadata": {
    "collapsed": false
   },
   "outputs": [
    {
     "data": {
      "text/html": [
       "<div>\n",
       "<table border=\"1\" class=\"dataframe\">\n",
       "  <thead>\n",
       "    <tr style=\"text-align: right;\">\n",
       "      <th></th>\n",
       "      <th>SAL</th>\n",
       "      <th>EDUC</th>\n",
       "    </tr>\n",
       "  </thead>\n",
       "  <tbody>\n",
       "    <tr>\n",
       "      <th>count</th>\n",
       "      <td>1000.000000</td>\n",
       "      <td>1000.000000</td>\n",
       "    </tr>\n",
       "    <tr>\n",
       "      <th>mean</th>\n",
       "      <td>20.615660</td>\n",
       "      <td>13.799000</td>\n",
       "    </tr>\n",
       "    <tr>\n",
       "      <th>std</th>\n",
       "      <td>12.834725</td>\n",
       "      <td>2.711079</td>\n",
       "    </tr>\n",
       "    <tr>\n",
       "      <th>min</th>\n",
       "      <td>1.970000</td>\n",
       "      <td>0.000000</td>\n",
       "    </tr>\n",
       "    <tr>\n",
       "      <th>25%</th>\n",
       "      <td>11.250000</td>\n",
       "      <td>12.000000</td>\n",
       "    </tr>\n",
       "    <tr>\n",
       "      <th>50%</th>\n",
       "      <td>17.300000</td>\n",
       "      <td>13.000000</td>\n",
       "    </tr>\n",
       "    <tr>\n",
       "      <th>75%</th>\n",
       "      <td>25.630000</td>\n",
       "      <td>16.000000</td>\n",
       "    </tr>\n",
       "    <tr>\n",
       "      <th>max</th>\n",
       "      <td>76.390000</td>\n",
       "      <td>21.000000</td>\n",
       "    </tr>\n",
       "  </tbody>\n",
       "</table>\n",
       "</div>"
      ],
      "text/plain": [
       "               SAL         EDUC\n",
       "count  1000.000000  1000.000000\n",
       "mean     20.615660    13.799000\n",
       "std      12.834725     2.711079\n",
       "min       1.970000     0.000000\n",
       "25%      11.250000    12.000000\n",
       "50%      17.300000    13.000000\n",
       "75%      25.630000    16.000000\n",
       "max      76.390000    21.000000"
      ]
     },
     "execution_count": 6,
     "metadata": {},
     "output_type": "execute_result"
    }
   ],
   "source": [
    "a1 = d[['SAL', 'EDUC']]\n",
    "a1.describe()"
   ]
  },
  {
   "cell_type": "code",
   "execution_count": 7,
   "metadata": {
    "collapsed": false
   },
   "outputs": [
    {
     "name": "stderr",
     "output_type": "stream",
     "text": [
      "/Users/mmngreco/Virtualenvs/ipynb/lib/python3.5/site-packages/seaborn/categorical.py:1791: UserWarning: The violinplot API has been changed. Attempting to adjust your arguments for the new API (which might not work). Please update your code. See the version 0.6 release notes for more info.\n",
      "  warnings.warn(msg, UserWarning)\n"
     ]
    },
    {
     "data": {
      "text/plain": [
       "<matplotlib.axes._subplots.AxesSubplot at 0x111d9ea58>"
      ]
     },
     "execution_count": 7,
     "metadata": {},
     "output_type": "execute_result"
    },
    {
     "name": "stderr",
     "output_type": "stream",
     "text": [
      "/Users/mmngreco/Virtualenvs/ipynb/lib/python3.5/site-packages/matplotlib/collections.py:590: FutureWarning: elementwise comparison failed; returning scalar instead, but in the future will perform elementwise comparison\n",
      "  if self._edgecolors == str('face'):\n"
     ]
    },
    {
     "data": {
      "image/png": "[encoded data removed]",
      "text/plain": [
       "<matplotlib.figure.Figure at 0x111e29470>"
      ]
     },
     "metadata": {},
     "output_type": "display_data"
    }
   ],
   "source": [
    "sns.violinplot(a1)"
   ]
  },
  {
   "cell_type": "code",
   "execution_count": 8,
   "metadata": {
    "collapsed": false
   },
   "outputs": [
    {
     "data": {
      "text/plain": [
       "<seaborn.axisgrid.PairGrid at 0x111eaada0>"
      ]
     },
     "execution_count": 8,
     "metadata": {},
     "output_type": "execute_result"
    },
    {
     "name": "stderr",
     "output_type": "stream",
     "text": [
      "/Users/mmngreco/Virtualenvs/ipynb/lib/python3.5/site-packages/matplotlib/collections.py:590: FutureWarning: elementwise comparison failed; returning scalar instead, but in the future will perform elementwise comparison\n",
      "  if self._edgecolors == str('face'):\n"
     ]
    },
    {
     "data": {
      "image/png": "[encoded data removed]",
      "text/plain": [
       "<matplotlib.figure.Figure at 0x111eaab38>"
      ]
     },
     "metadata": {},
     "output_type": "display_data"
    }
   ],
   "source": [
    "sns.pairplot(a1, diag_kind='kde')"
   ]
  },
  {
   "cell_type": "code",
   "execution_count": 9,
   "metadata": {
    "collapsed": false
   },
   "outputs": [
    {
     "data": {
      "text/plain": [
       "<matplotlib.axes._subplots.AxesSubplot at 0x11226a780>"
      ]
     },
     "execution_count": 9,
     "metadata": {},
     "output_type": "execute_result"
    },
    {
     "data": {
      "image/png": "[encoded data removed]",
      "text/plain": [
       "<matplotlib.figure.Figure at 0x11204a9b0>"
      ]
     },
     "metadata": {},
     "output_type": "display_data"
    }
   ],
   "source": [
    "fig, (ax1, ax2) = plt.subplots(1,2)\n",
    "sns.distplot(a1.SAL, ax=ax1)\n",
    "sns.distplot(a1.EDUC, ax=ax2)"
   ]
  },
  {
   "cell_type": "markdown",
   "metadata": {},
   "source": [
    "## 2) Estimar la regresión lineal $SAL = \\beta_1 + \\beta_2 EDUC + u$ y comentar los resultados."
   ]
  },
  {
   "cell_type": "code",
   "execution_count": 10,
   "metadata": {
    "collapsed": false
   },
   "outputs": [
    {
     "name": "stdout",
     "output_type": "stream",
     "text": [
      "                            OLS Regression Results                            \n",
      "==============================================================================\n",
      "Dep. Variable:                    SAL   R-squared:                       0.175\n",
      "Model:                            OLS   Adj. R-squared:                  0.174\n",
      "Method:                 Least Squares   F-statistic:                     154.9\n",
      "Date:                Wed, 11 Nov 2015   Prob (F-statistic):           3.75e-33\n",
      "Time:                        15:12:23   Log-Likelihood:                -3874.4\n",
      "No. Observations:                1000   AIC:                             7753.\n",
      "Df Residuals:                     998   BIC:                             7763.\n",
      "Df Model:                           1                                         \n",
      "Covariance Type:                  HC1                                         \n",
      "==============================================================================\n",
      "                 coef    std err          t      P>|t|      [95.0% Conf. Int.]\n",
      "------------------------------------------------------------------------------\n",
      "Intercept     -6.7103      2.124     -3.159      0.002       -10.879    -2.542\n",
      "EDUC           1.9803      0.159     12.445      0.000         1.668     2.293\n",
      "==============================================================================\n",
      "Omnibus:                      297.255   Durbin-Watson:                   1.996\n",
      "Prob(Omnibus):                  0.000   Jarque-Bera (JB):              839.824\n",
      "Skew:                           1.506   Prob(JB):                    4.31e-183\n",
      "Kurtosis:                       6.329   Cond. No.                         73.3\n",
      "==============================================================================\n",
      "\n",
      "Warnings:\n",
      "[1] Standard Errors are heteroscedasticity robust (HC1)\n"
     ]
    }
   ],
   "source": [
    "f_1 = 'SAL ~ EDUC'\n",
    "m = ols(f_1, d).fit().get_robustcov_results()\n",
    "print(m.summary())"
   ]
  },
  {
   "cell_type": "markdown",
   "metadata": {},
   "source": [
    "## 3) Obtener los residuos MCO y hacer un gráfico de estos residuos con la variable EDUC. ¿Se observa alguna pauta relevante?. Si EDUC no es estocástica y se cumplen las hipótesis vistas en teoría, ¿cabría esperar alguna pauta de comportamiento conjunto?"
   ]
  },
  {
   "cell_type": "code",
   "execution_count": 11,
   "metadata": {
    "collapsed": false
   },
   "outputs": [
    {
     "data": {
      "text/plain": [
       "<matplotlib.collections.PathCollection at 0x112405b70>"
      ]
     },
     "execution_count": 11,
     "metadata": {},
     "output_type": "execute_result"
    },
    {
     "name": "stderr",
     "output_type": "stream",
     "text": [
      "/Users/mmngreco/Virtualenvs/ipynb/lib/python3.5/site-packages/matplotlib/collections.py:590: FutureWarning: elementwise comparison failed; returning scalar instead, but in the future will perform elementwise comparison\n",
      "  if self._edgecolors == str('face'):\n"
     ]
    },
    {
     "data": {
      "image/png": "[encoded data removed]",
      "text/plain": [
       "<matplotlib.figure.Figure at 0x112405f28>"
      ]
     },
     "metadata": {},
     "output_type": "display_data"
    }
   ],
   "source": [
    "plt.scatter(m.resid, d.EDUC)"
   ]
  },
  {
   "cell_type": "markdown",
   "metadata": {},
   "source": [
    "## 4) Estimar regresiones separadas para hombres, mujeres, asiáticos y blancos. Comparar los resultados."
   ]
  },
  {
   "cell_type": "code",
   "execution_count": 12,
   "metadata": {
    "collapsed": true
   },
   "outputs": [],
   "source": [
    "d_hombre = d[d['FEMALE'] == 0]\n",
    "d_mujer = d[d['FEMALE'] == 1]\n",
    "d_asian = d[d['ASIAN'] == 1]\n",
    "d_white = d[d['BLACK'] == 1]"
   ]
  },
  {
   "cell_type": "code",
   "execution_count": 13,
   "metadata": {
    "collapsed": true
   },
   "outputs": [],
   "source": [
    "f_4 = 'SAL ~ EDUC'\n",
    "m_hombre = ols(f_4, d_hombre).fit().get_robustcov_results()\n",
    "m_mujer = ols(f_4, d_mujer).fit().get_robustcov_results()\n",
    "m_asian = ols(f_4, d_asian).fit().get_robustcov_results()\n",
    "m_white = ols(f_4, d_white).fit().get_robustcov_results()"
   ]
  },
  {
   "cell_type": "code",
   "execution_count": 14,
   "metadata": {
    "collapsed": false
   },
   "outputs": [
    {
     "name": "stdout",
     "output_type": "stream",
     "text": [
      "                            OLS Regression Results                            \n",
      "==============================================================================\n",
      "Dep. Variable:                    SAL   R-squared:                       0.181\n",
      "Model:                            OLS   Adj. R-squared:                  0.179\n",
      "Method:                 Least Squares   F-statistic:                     79.07\n",
      "Date:                Wed, 11 Nov 2015   Prob (F-statistic):           1.19e-17\n",
      "Time:                        15:12:24   Log-Likelihood:                -1877.5\n",
      "No. Observations:                 486   AIC:                             3759.\n",
      "Df Residuals:                     484   BIC:                             3767.\n",
      "Df Model:                           1                                         \n",
      "Covariance Type:                  HC1                                         \n",
      "==============================================================================\n",
      "                 coef    std err          t      P>|t|      [95.0% Conf. Int.]\n",
      "------------------------------------------------------------------------------\n",
      "Intercept     -3.0545      2.731     -1.118      0.264        -8.421     2.312\n",
      "EDUC           1.8753      0.211      8.892      0.000         1.461     2.290\n",
      "==============================================================================\n",
      "Omnibus:                      126.204   Durbin-Watson:                   1.979\n",
      "Prob(Omnibus):                  0.000   Jarque-Bera (JB):              287.791\n",
      "Skew:                           1.342   Prob(JB):                     3.21e-63\n",
      "Kurtosis:                       5.647   Cond. No.                         65.8\n",
      "==============================================================================\n",
      "\n",
      "Warnings:\n",
      "[1] Standard Errors are heteroscedasticity robust (HC1)\n"
     ]
    }
   ],
   "source": [
    "print(m_hombre.summary())"
   ]
  },
  {
   "cell_type": "code",
   "execution_count": 15,
   "metadata": {
    "collapsed": false
   },
   "outputs": [
    {
     "name": "stdout",
     "output_type": "stream",
     "text": [
      "                            OLS Regression Results                            \n",
      "==============================================================================\n",
      "Dep. Variable:                    SAL   R-squared:                       0.211\n",
      "Model:                            OLS   Adj. R-squared:                  0.209\n",
      "Method:                 Least Squares   F-statistic:                     107.4\n",
      "Date:                Wed, 11 Nov 2015   Prob (F-statistic):           5.66e-23\n",
      "Time:                        15:12:24   Log-Likelihood:                -1977.1\n",
      "No. Observations:                 514   AIC:                             3958.\n",
      "Df Residuals:                     512   BIC:                             3967.\n",
      "Df Model:                           1                                         \n",
      "Covariance Type:                  HC1                                         \n",
      "==============================================================================\n",
      "                 coef    std err          t      P>|t|      [95.0% Conf. Int.]\n",
      "------------------------------------------------------------------------------\n",
      "Intercept    -14.1680      3.076     -4.606      0.000       -20.211    -8.125\n",
      "EDUC           2.3575      0.227     10.363      0.000         1.911     2.804\n",
      "==============================================================================\n",
      "Omnibus:                      199.897   Durbin-Watson:                   2.060\n",
      "Prob(Omnibus):                  0.000   Jarque-Bera (JB):              783.658\n",
      "Skew:                           1.760   Prob(JB):                    6.77e-171\n",
      "Kurtosis:                       7.919   Cond. No.                         83.4\n",
      "==============================================================================\n",
      "\n",
      "Warnings:\n",
      "[1] Standard Errors are heteroscedasticity robust (HC1)\n"
     ]
    }
   ],
   "source": [
    "print(m_mujer.summary())"
   ]
  },
  {
   "cell_type": "code",
   "execution_count": 16,
   "metadata": {
    "collapsed": false
   },
   "outputs": [
    {
     "name": "stdout",
     "output_type": "stream",
     "text": [
      "                            OLS Regression Results                            \n",
      "==============================================================================\n",
      "Dep. Variable:                    SAL   R-squared:                       0.055\n",
      "Model:                            OLS   Adj. R-squared:                  0.032\n",
      "Method:                 Least Squares   F-statistic:                     2.698\n",
      "Date:                Wed, 11 Nov 2015   Prob (F-statistic):              0.108\n",
      "Time:                        15:12:24   Log-Likelihood:                -169.13\n",
      "No. Observations:                  43   AIC:                             342.3\n",
      "Df Residuals:                      41   BIC:                             345.8\n",
      "Df Model:                           1                                         \n",
      "Covariance Type:                  HC1                                         \n",
      "==============================================================================\n",
      "                 coef    std err          t      P>|t|      [95.0% Conf. Int.]\n",
      "------------------------------------------------------------------------------\n",
      "Intercept      7.5464     10.033      0.752      0.456       -12.715    27.808\n",
      "EDUC           1.0205      0.621      1.643      0.108        -0.234     2.275\n",
      "==============================================================================\n",
      "Omnibus:                       23.273   Durbin-Watson:                   2.641\n",
      "Prob(Omnibus):                  0.000   Jarque-Bera (JB):               47.577\n",
      "Skew:                           1.409   Prob(JB):                     4.66e-11\n",
      "Kurtosis:                       7.314   Cond. No.                         88.0\n",
      "==============================================================================\n",
      "\n",
      "Warnings:\n",
      "[1] Standard Errors are heteroscedasticity robust (HC1)\n"
     ]
    }
   ],
   "source": [
    "print(m_asian.summary())"
   ]
  },
  {
   "cell_type": "code",
   "execution_count": 17,
   "metadata": {
    "collapsed": false
   },
   "outputs": [
    {
     "name": "stdout",
     "output_type": "stream",
     "text": [
      "                            OLS Regression Results                            \n",
      "==============================================================================\n",
      "Dep. Variable:                    SAL   R-squared:                       0.210\n",
      "Model:                            OLS   Adj. R-squared:                  0.203\n",
      "Method:                 Least Squares   F-statistic:                     13.59\n",
      "Date:                Wed, 11 Nov 2015   Prob (F-statistic):           0.000354\n",
      "Time:                        15:12:24   Log-Likelihood:                -426.66\n",
      "No. Observations:                 112   AIC:                             857.3\n",
      "Df Residuals:                     110   BIC:                             862.8\n",
      "Df Model:                           1                                         \n",
      "Covariance Type:                  HC1                                         \n",
      "==============================================================================\n",
      "                 coef    std err          t      P>|t|      [95.0% Conf. Int.]\n",
      "------------------------------------------------------------------------------\n",
      "Intercept    -15.0859      8.594     -1.755      0.082       -32.117     1.945\n",
      "EDUC           2.4491      0.664      3.687      0.000         1.133     3.765\n",
      "==============================================================================\n",
      "Omnibus:                       59.034   Durbin-Watson:                   2.065\n",
      "Prob(Omnibus):                  0.000   Jarque-Bera (JB):              181.989\n",
      "Skew:                           1.977   Prob(JB):                     3.03e-40\n",
      "Kurtosis:                       7.833   Cond. No.                         81.1\n",
      "==============================================================================\n",
      "\n",
      "Warnings:\n",
      "[1] Standard Errors are heteroscedasticity robust (HC1)\n"
     ]
    }
   ],
   "source": [
    "print(m_white.summary())"
   ]
  },
  {
   "cell_type": "markdown",
   "metadata": {},
   "source": [
    "## 5) Estimar la regresión cuadrática $SAL  = \\beta_0 + \\beta_1 EDUC ^2 + u$ y comentar losresultados. \n",
    "Estimar el efecto marginal de un año adicional de educación sobre los salarios para una persona con 12 años de educación y para otra con 16 años de educación. Comparar estos resultados con los obtenidos en 2)."
   ]
  },
  {
   "cell_type": "code",
   "execution_count": 18,
   "metadata": {
    "collapsed": false
   },
   "outputs": [
    {
     "name": "stdout",
     "output_type": "stream",
     "text": [
      "                            OLS Regression Results                            \n",
      "==============================================================================\n",
      "Dep. Variable:                    SAL   R-squared:                       0.188\n",
      "Model:                            OLS   Adj. R-squared:                  0.187\n",
      "Method:                 Least Squares   F-statistic:                     178.2\n",
      "Date:                Wed, 11 Nov 2015   Prob (F-statistic):           1.61e-37\n",
      "Time:                        15:12:24   Log-Likelihood:                -3866.4\n",
      "No. Observations:                1000   AIC:                             7737.\n",
      "Df Residuals:                     998   BIC:                             7747.\n",
      "Df Model:                           1                                         \n",
      "Covariance Type:                  HC1                                         \n",
      "=====================================================================================\n",
      "                        coef    std err          t      P>|t|      [95.0% Conf. Int.]\n",
      "-------------------------------------------------------------------------------------\n",
      "Intercept             6.0828      1.020      5.962      0.000         4.081     8.085\n",
      "np.power(EDUC, 2)     0.0735      0.006     13.349      0.000         0.063     0.084\n",
      "==============================================================================\n",
      "Omnibus:                      299.008   Durbin-Watson:                   1.992\n",
      "Prob(Omnibus):                  0.000   Jarque-Bera (JB):              885.233\n",
      "Skew:                           1.493   Prob(JB):                    5.94e-193\n",
      "Kurtosis:                       6.511   Cond. No.                         592.\n",
      "==============================================================================\n",
      "\n",
      "Warnings:\n",
      "[1] Standard Errors are heteroscedasticity robust (HC1)\n"
     ]
    }
   ],
   "source": [
    "f5 = 'SAL ~ np.power(EDUC,2)'\n",
    "m_5 = ols(f5, d).fit().get_robustcov_results()\n",
    "print(m_5.summary())"
   ]
  },
  {
   "cell_type": "code",
   "execution_count": 19,
   "metadata": {
    "collapsed": false
   },
   "outputs": [
    {
     "data": {
      "text/plain": [
       "(1.9803, 2.3516)"
      ]
     },
     "execution_count": 19,
     "metadata": {},
     "output_type": "execute_result"
    }
   ],
   "source": [
    "m.params[-1], m_5.params[-1] * 2 * 16"
   ]
  },
  {
   "cell_type": "code",
   "execution_count": null,
   "metadata": {
    "collapsed": true
   },
   "outputs": [],
   "source": []
  },
  {
   "cell_type": "markdown",
   "metadata": {},
   "source": [
    "## 6) Construir un histograma de ln(SAL). Comparar la forma de este histograma con la correspondiente a SAL. ¿Cuál de ellas parece más simétrica y ajustada a una campana de Gauss?"
   ]
  },
  {
   "cell_type": "code",
   "execution_count": 20,
   "metadata": {
    "collapsed": false
   },
   "outputs": [
    {
     "data": {
      "text/plain": [
       "<matplotlib.axes._subplots.AxesSubplot at 0x1125de240>"
      ]
     },
     "execution_count": 20,
     "metadata": {},
     "output_type": "execute_result"
    },
    {
     "data": {
      "image/png": "[encoded data removed]",
      "text/plain": [
       "<matplotlib.figure.Figure at 0x1125a1080>"
      ]
     },
     "metadata": {},
     "output_type": "display_data"
    }
   ],
   "source": [
    "fig, (ax1, ax2) = plt.subplots(1,2)\n",
    "sns.distplot(np.log(d.SAL), ax=ax1)\n",
    "sns.distplot(d.SAL, ax=ax2)"
   ]
  },
  {
   "cell_type": "markdown",
   "metadata": {},
   "source": [
    "## 7) Estimar la regresión $ln(SAL)= \\beta_1 + \\beta_2 ln(EDUC)+ u$ . Estimar el efecto marginal de un año adicional de educación sobre los salarios para una persona con 12 años de educación y para otra con 16 años de educación. Comparar estos resultados con los obtenidos en 2) y 5)."
   ]
  },
  {
   "cell_type": "code",
   "execution_count": 21,
   "metadata": {
    "collapsed": false
   },
   "outputs": [
    {
     "name": "stdout",
     "output_type": "stream",
     "text": [
      "                            OLS Regression Results                            \n",
      "==============================================================================\n",
      "Dep. Variable:            np.log(SAL)   R-squared:                       0.178\n",
      "Model:                            OLS   Adj. R-squared:                  0.177\n",
      "Method:                 Least Squares   F-statistic:                     177.1\n",
      "Date:                Wed, 11 Nov 2015   Prob (F-statistic):           2.61e-37\n",
      "Time:                        15:12:24   Log-Likelihood:                -776.65\n",
      "No. Observations:                1000   AIC:                             1557.\n",
      "Df Residuals:                     998   BIC:                             1567.\n",
      "Df Model:                           1                                         \n",
      "Covariance Type:                  HC1                                         \n",
      "==============================================================================\n",
      "                 coef    std err          t      P>|t|      [95.0% Conf. Int.]\n",
      "------------------------------------------------------------------------------\n",
      "Intercept      1.6094      0.095     16.988      0.000         1.424     1.795\n",
      "EDUC           0.0904      0.007     13.306      0.000         0.077     0.104\n",
      "==============================================================================\n",
      "Omnibus:                       16.696   Durbin-Watson:                   2.013\n",
      "Prob(Omnibus):                  0.000   Jarque-Bera (JB):               27.528\n",
      "Skew:                          -0.099   Prob(JB):                     1.05e-06\n",
      "Kurtosis:                       3.788   Cond. No.                         73.3\n",
      "==============================================================================\n",
      "\n",
      "Warnings:\n",
      "[1] Standard Errors are heteroscedasticity robust (HC1)\n"
     ]
    }
   ],
   "source": [
    "f7 = 'np.log(SAL) ~ EDUC'\n",
    "m7 = ols(f7, d).fit().get_robustcov_results()\n",
    "print(m7.summary())"
   ]
  },
  {
   "cell_type": "markdown",
   "metadata": {},
   "source": [
    "Por cada año mas de educación el salario se incremente en un 0.09 · 100 = 9%\n",
    "El incremento marginal:\n",
    "\n",
    "$SAL = e^{\\beta_1 + \\beta_2 EDUC_i}$\n",
    "\n",
    "$\\frac{\\partial{SAL}}{\\partial{EDUC}} = \\beta_2·e^{\\beta_1 + \\beta_2 EDUC_i}$\n"
   ]
  },
  {
   "cell_type": "code",
   "execution_count": 22,
   "metadata": {
    "collapsed": false
   },
   "outputs": [
    {
     "data": {
      "text/plain": [
       "1.6999"
      ]
     },
     "execution_count": 22,
     "metadata": {},
     "output_type": "execute_result"
    }
   ],
   "source": [
    "b = m7.params\n",
    "(b[0] + b[1])"
   ]
  },
  {
   "cell_type": "markdown",
   "metadata": {},
   "source": [
    "## 8) Contrastar la significatividad estadística del coeficiente de EDUC en 2) utilizando un nivel de significación del 5%. Con el mismo nivel de significación obtener una estimación por intervalo de ese coeficiente."
   ]
  },
  {
   "cell_type": "code",
   "execution_count": 23,
   "metadata": {
    "collapsed": false
   },
   "outputs": [
    {
     "name": "stdout",
     "output_type": "stream",
     "text": [
      "==============================================================================\n",
      "                 coef    std err          t      P>|t|      [95.0% Conf. Int.]\n",
      "------------------------------------------------------------------------------\n",
      "Intercept     -6.7103      2.124     -3.159      0.002       -10.879    -2.542\n",
      "EDUC           1.9803      0.159     12.445      0.000         1.668     2.293\n",
      "==============================================================================\n"
     ]
    }
   ],
   "source": [
    "print(m.summary().tables[1])"
   ]
  },
  {
   "cell_type": "markdown",
   "metadata": {},
   "source": [
    "## 9) Contrastar la hipótesis nula de que 1  0 frente a la alternativa de que es menor que cero, utilizando un nivel de significación del 1%."
   ]
  },
  {
   "cell_type": "code",
   "execution_count": 24,
   "metadata": {
    "collapsed": false
   },
   "outputs": [
    {
     "data": {
      "text/plain": [
       "-2.3301"
      ]
     },
     "execution_count": 24,
     "metadata": {},
     "output_type": "execute_result"
    }
   ],
   "source": [
    "sns.stats.t.ppf(0.01, len(d)- 2)"
   ]
  },
  {
   "cell_type": "markdown",
   "metadata": {},
   "source": [
    "## 10)Estimar el modelo $ln(SAL)=\\beta_1 + \\beta_2 EDUC+ \\beta_3 EXPER+ \\beta_4HRSWK + u$ e interpretar las estimaciones obtenidas para los tres parámetros. ¿Son, desde un punto de vista estadístico, significativamente diferentes de cero?. Los apartados que siguen se refieren a este modelo general si no se dice lo contrario."
   ]
  },
  {
   "cell_type": "code",
   "execution_count": 25,
   "metadata": {
    "collapsed": false
   },
   "outputs": [
    {
     "name": "stdout",
     "output_type": "stream",
     "text": [
      "                            OLS Regression Results                            \n",
      "==============================================================================\n",
      "Dep. Variable:            np.log(SAL)   R-squared:                       0.220\n",
      "Model:                            OLS   Adj. R-squared:                  0.217\n",
      "Method:                 Least Squares   F-statistic:                     75.88\n",
      "Date:                Wed, 11 Nov 2015   Prob (F-statistic):           3.29e-44\n",
      "Time:                        15:12:24   Log-Likelihood:                -750.76\n",
      "No. Observations:                1000   AIC:                             1510.\n",
      "Df Residuals:                     996   BIC:                             1529.\n",
      "Df Model:                           3                                         \n",
      "Covariance Type:                  HC1                                         \n",
      "==============================================================================\n",
      "                 coef    std err          t      P>|t|      [95.0% Conf. Int.]\n",
      "------------------------------------------------------------------------------\n",
      "Intercept      1.1005      0.119      9.271      0.000         0.868     1.333\n",
      "EDUC           0.0903      0.007     13.122      0.000         0.077     0.104\n",
      "EXPER          0.0058      0.001      4.215      0.000         0.003     0.008\n",
      "HRSWK          0.0089      0.002      5.320      0.000         0.006     0.012\n",
      "==============================================================================\n",
      "Omnibus:                       32.860   Durbin-Watson:                   2.018\n",
      "Prob(Omnibus):                  0.000   Jarque-Bera (JB):               71.238\n",
      "Skew:                          -0.154   Prob(JB):                     3.39e-16\n",
      "Kurtosis:                       4.271   Cond. No.                         345.\n",
      "==============================================================================\n",
      "\n",
      "Warnings:\n",
      "[1] Standard Errors are heteroscedasticity robust (HC1)\n"
     ]
    }
   ],
   "source": [
    "f10 = 'np.log(SAL) ~ EDUC + EXPER + HRSWK'\n",
    "m10 = ols(f10, d).fit().get_robustcov_results()\n",
    "print(m10.summary())"
   ]
  },
  {
   "cell_type": "markdown",
   "metadata": {},
   "source": [
    "## 11) Contrastar la hipótesis nula de que el efecto de un año adicional de educación es, al menos, de un crecimiento del salario del 10% frente a la hipótesis alternativa de que es menos del 10%."
   ]
  },
  {
   "cell_type": "code",
   "execution_count": 26,
   "metadata": {
    "collapsed": false
   },
   "outputs": [
    {
     "data": {
      "text/plain": [
       "<class 'statsmodels.stats.contrast.ContrastResults'>\n",
       "                             Test for Constraints                             \n",
       "==============================================================================\n",
       "                 coef    std err          t      P>|t|      [95.0% Conf. Int.]\n",
       "------------------------------------------------------------------------------\n",
       "c0             0.0903      0.007     -1.409      0.159         0.077     0.104\n",
       "=============================================================================="
      ]
     },
     "execution_count": 26,
     "metadata": {},
     "output_type": "execute_result"
    }
   ],
   "source": [
    "h0 = 'EDUC - 0.1'\n",
    "m10.t_test(h0)"
   ]
  },
  {
   "cell_type": "code",
   "execution_count": 27,
   "metadata": {
    "collapsed": false
   },
   "outputs": [
    {
     "data": {
      "text/plain": [
       "-1.6449"
      ]
     },
     "execution_count": 27,
     "metadata": {},
     "output_type": "execute_result"
    }
   ],
   "source": [
    "sns.stats.norm.ppf(0.05)"
   ]
  },
  {
   "cell_type": "markdown",
   "metadata": {},
   "source": [
    "## 12) Definir un intervalo de confianza del 99% para el cambio porcentual de los salarios consecuencia de aumentar una hora el trabajo semanal."
   ]
  },
  {
   "cell_type": "code",
   "execution_count": 28,
   "metadata": {
    "collapsed": false
   },
   "outputs": [
    {
     "name": "stdout",
     "output_type": "stream",
     "text": [
      "==============================================================================\n",
      "                 coef    std err          t      P>|t|      [95.0% Conf. Int.]\n",
      "------------------------------------------------------------------------------\n",
      "Intercept      1.1005      0.119      9.271      0.000         0.868     1.333\n",
      "EDUC           0.0903      0.007     13.122      0.000         0.077     0.104\n",
      "EXPER          0.0058      0.001      4.215      0.000         0.003     0.008\n",
      "HRSWK          0.0089      0.002      5.320      0.000         0.006     0.012\n",
      "==============================================================================\n"
     ]
    }
   ],
   "source": [
    "print(m10.summary().tables[1])"
   ]
  },
  {
   "cell_type": "markdown",
   "metadata": {},
   "source": [
    "## 13)Reestimar el modelo en 2) con las variables adicionales $EXPER,EDUC · EXPER,EDUC^2 ,EXPER^2$ . Comentar los resultados."
   ]
  },
  {
   "cell_type": "code",
   "execution_count": 29,
   "metadata": {
    "collapsed": false
   },
   "outputs": [
    {
     "name": "stdout",
     "output_type": "stream",
     "text": [
      "                            OLS Regression Results                            \n",
      "==============================================================================\n",
      "Dep. Variable:                    SAL   R-squared:                       0.238\n",
      "Model:                            OLS   Adj. R-squared:                  0.235\n",
      "Method:                 Least Squares   F-statistic:                     70.36\n",
      "Date:                Wed, 11 Nov 2015   Prob (F-statistic):           1.69e-52\n",
      "Time:                        15:12:24   Log-Likelihood:                -3834.5\n",
      "No. Observations:                1000   AIC:                             7679.\n",
      "Df Residuals:                     995   BIC:                             7704.\n",
      "Df Model:                           4                                         \n",
      "Covariance Type:                  HC1                                         \n",
      "============================================================================================\n",
      "                               coef    std err          t      P>|t|      [95.0% Conf. Int.]\n",
      "--------------------------------------------------------------------------------------------\n",
      "Intercept                   -4.7841      2.303     -2.077      0.038        -9.304    -0.264\n",
      "EXPER                        0.7853      0.182      4.317      0.000         0.428     1.142\n",
      "np.multiply(EDUC, EXPER)    -0.0003      0.011     -0.030      0.976        -0.021     0.020\n",
      "np.power(EDUC, 2)            0.0748      0.011      7.110      0.000         0.054     0.095\n",
      "np.power(EXPER, 2)          -0.0116      0.002     -7.158      0.000        -0.015    -0.008\n",
      "==============================================================================\n",
      "Omnibus:                      293.298   Durbin-Watson:                   2.009\n",
      "Prob(Omnibus):                  0.000   Jarque-Bera (JB):              882.687\n",
      "Skew:                           1.455   Prob(JB):                    2.12e-192\n",
      "Kurtosis:                       6.565   Cond. No.                     8.83e+03\n",
      "==============================================================================\n",
      "\n",
      "Warnings:\n",
      "[1] Standard Errors are heteroscedasticity robust (HC1)\n",
      "[2] The condition number is large, 8.83e+03. This might indicate that there are\n",
      "strong multicollinearity or other numerical problems.\n"
     ]
    }
   ],
   "source": [
    "f13 = 'SAL ~ EXPER + np.multiply(EDUC, EXPER) + np.power(EDUC,2) + np.power(EXPER,2)'\n",
    "m13 = ols(f13, d).fit().get_robustcov_results()\n",
    "print(m13.summary())"
   ]
  },
  {
   "cell_type": "code",
   "execution_count": null,
   "metadata": {
    "collapsed": false
   },
   "outputs": [],
   "source": []
  },
  {
   "cell_type": "markdown",
   "metadata": {},
   "source": [
    "## 14)Para el nuevo modelo, encontrar expresiones para el efecto marginal $\\frac{\\partial SAL}{\\partial EDUC}$ y $\\frac{\\partial SAL}{\\partial EXPER}$"
   ]
  },
  {
   "cell_type": "code",
   "execution_count": null,
   "metadata": {
    "collapsed": true
   },
   "outputs": [],
   "source": []
  },
  {
   "cell_type": "markdown",
   "metadata": {},
   "source": [
    "## 15) Estimar el efecto marginal $\\frac{\\partial(SAL)}{\\partial{EDUC}}$ para dos trabajadores Hill and Wendy; Hill tiene 16 años de educación y 2 años de experiencia, mientras que Wendy tiene 12 años de educación y 2 años de experiencia. ¿Qué puede decirse acerca del efecto marginal de la educación conforme esta crece?"
   ]
  },
  {
   "cell_type": "code",
   "execution_count": null,
   "metadata": {
    "collapsed": true
   },
   "outputs": [],
   "source": []
  },
  {
   "cell_type": "markdown",
   "metadata": {},
   "source": [
    "## 16) Contrastar considerando como hipótesis alternativa que el efecto marginal de la educación es mayor en Hill que en Wendy."
   ]
  },
  {
   "cell_type": "markdown",
   "metadata": {},
   "source": [
    "$H_0: \\beta_5 ≤ 0$\n",
    "\n",
    "$H_1: \\beta_5 > 0$"
   ]
  },
  {
   "cell_type": "code",
   "execution_count": null,
   "metadata": {
    "collapsed": true
   },
   "outputs": [],
   "source": []
  },
  {
   "cell_type": "markdown",
   "metadata": {},
   "source": [
    "## 17) Definir un intervalo de confianza del 95% para el efecto marginal en el salario consecuencia de un año adicional de educación para alguien con 16 años de educación y 2 años de experiencia."
   ]
  },
  {
   "cell_type": "code",
   "execution_count": null,
   "metadata": {
    "collapsed": true
   },
   "outputs": [],
   "source": []
  },
  {
   "cell_type": "markdown",
   "metadata": {},
   "source": [
    "## 18) En el modelo en 10), contrastar la hipótesis conjunta de que los coeficientes de las variables EXPER y HRSWK son cero."
   ]
  },
  {
   "cell_type": "code",
   "execution_count": 32,
   "metadata": {
    "collapsed": false
   },
   "outputs": [
    {
     "data": {
      "text/plain": [
       "<class 'statsmodels.stats.contrast.ContrastResults'>\n",
       "<F test: F=array([[ 24.0166]]), p=6.507629735756835e-11, df_denom=996, df_num=2>"
      ]
     },
     "execution_count": 32,
     "metadata": {},
     "output_type": "execute_result"
    }
   ],
   "source": [
    "h0 = 'EXPER = HRSWK = 0'\n",
    "m10.f_test(h0)"
   ]
  },
  {
   "cell_type": "markdown",
   "metadata": {},
   "source": [
    "## 19) Considerar el modelo \n",
    "\n",
    "\n",
    "$$ln(SAL) = \\beta_1 + \\beta_2EDUC+ \\beta_3BLACK+\\beta_4FEMALE+\\beta_5(BLACK·FEMALE)+\\beta_6SOUTH+\\beta_7MID+\\beta_8WEST+ u$$\n",
    "\n",
    "Contrastar si la iteración BLACK y FEMALE es estadísticamente significativa.\n",
    "Contrastar, también, que no hay efecto regional."
   ]
  },
  {
   "cell_type": "code",
   "execution_count": 42,
   "metadata": {
    "collapsed": false
   },
   "outputs": [],
   "source": [
    "f19 = 'np.log(SAL) ~ EDUC + BLACK + FEMALE + np.multiply(BLACK,FEMALE) + SOUTH + MID + WEST'\n",
    "m19 = ols(f19, d).fit()"
   ]
  },
  {
   "cell_type": "code",
   "execution_count": 43,
   "metadata": {
    "collapsed": false
   },
   "outputs": [
    {
     "name": "stdout",
     "output_type": "stream",
     "text": [
      "                            OLS Regression Results                            \n",
      "==============================================================================\n",
      "Dep. Variable:            np.log(SAL)   R-squared:                       0.237\n",
      "Model:                            OLS   Adj. R-squared:                  0.232\n",
      "Method:                 Least Squares   F-statistic:                     44.00\n",
      "Date:                Wed, 11 Nov 2015   Prob (F-statistic):           2.62e-54\n",
      "Time:                        15:41:17   Log-Likelihood:                -739.58\n",
      "No. Observations:                1000   AIC:                             1495.\n",
      "Df Residuals:                     992   BIC:                             1534.\n",
      "Df Model:                           7                                         \n",
      "Covariance Type:            nonrobust                                         \n",
      "==============================================================================================\n",
      "                                 coef    std err          t      P>|t|      [95.0% Conf. Int.]\n",
      "----------------------------------------------------------------------------------------------\n",
      "Intercept                      1.7221      0.091     18.985      0.000         1.544     1.900\n",
      "EDUC                           0.0953      0.006     15.850      0.000         0.084     0.107\n",
      "BLACK                         -0.2012      0.080     -2.520      0.012        -0.358    -0.045\n",
      "FEMALE                        -0.2579      0.034     -7.492      0.000        -0.325    -0.190\n",
      "np.multiply(BLACK, FEMALE)     0.1766      0.104      1.704      0.089        -0.027     0.380\n",
      "SOUTH                         -0.0371      0.046     -0.809      0.419        -0.127     0.053\n",
      "MID                           -0.1307      0.047     -2.758      0.006        -0.224    -0.038\n",
      "WEST                           0.0235      0.047      0.496      0.620        -0.069     0.116\n",
      "==============================================================================\n",
      "Omnibus:                       30.797   Durbin-Watson:                   2.025\n",
      "Prob(Omnibus):                  0.000   Jarque-Bera (JB):               68.211\n",
      "Skew:                          -0.117   Prob(JB):                     1.54e-15\n",
      "Kurtosis:                       4.258   Cond. No.                         109.\n",
      "==============================================================================\n",
      "\n",
      "Warnings:\n",
      "[1] Standard Errors assume that the covariance matrix of the errors is correctly specified.\n"
     ]
    }
   ],
   "source": [
    "print(m19.summary())"
   ]
  },
  {
   "cell_type": "code",
   "execution_count": 57,
   "metadata": {
    "collapsed": false
   },
   "outputs": [
    {
     "data": {
      "text/plain": [
       "'<F test: F=array([[ 4.2223]]), p=0.005604549663577709, df_denom=992, df_num=3>'"
      ]
     },
     "execution_count": 57,
     "metadata": {},
     "output_type": "execute_result"
    }
   ],
   "source": [
    "h0 = 'SOUTH = MID = WEST = 0'\n",
    "m19.f_test(h0).summary()"
   ]
  },
  {
   "cell_type": "markdown",
   "metadata": {},
   "source": [
    "## 20) Estimar el siguiente modelo con MCO y desviaciones típicas robustas a la heterocedasticidad\n",
    "\n",
    "$$ln(SAL) = \\beta_1 + \\beta_2EDUC+ \\beta_3EXPER+\\beta_4EXPER^2+\\beta_5(EXPER·EDUC)+u$$"
   ]
  },
  {
   "cell_type": "code",
   "execution_count": 62,
   "metadata": {
    "collapsed": false
   },
   "outputs": [],
   "source": [
    "f20 = 'np.log(SAL) ~ EDUC + EXPER + np.power(EXPER,2) + np.multiply(EXPER,EDUC)'\n",
    "m20 = ols(f20, d).fit()"
   ]
  },
  {
   "cell_type": "code",
   "execution_count": 63,
   "metadata": {
    "collapsed": false
   },
   "outputs": [
    {
     "name": "stdout",
     "output_type": "stream",
     "text": [
      "                            OLS Regression Results                            \n",
      "==============================================================================\n",
      "Dep. Variable:            np.log(SAL)   R-squared:                       0.245\n",
      "Model:                            OLS   Adj. R-squared:                  0.242\n",
      "Method:                 Least Squares   F-statistic:                     85.07\n",
      "Date:                Wed, 11 Nov 2015   Prob (F-statistic):           3.57e-62\n",
      "Time:                        15:53:05   Log-Likelihood:                -734.56\n",
      "No. Observations:                1000   AIC:                             1479.\n",
      "Df Residuals:                     995   BIC:                             1504.\n",
      "Df Model:                           4                                         \n",
      "Covariance Type:                  HC1                                         \n",
      "============================================================================================\n",
      "                               coef    std err          t      P>|t|      [95.0% Conf. Int.]\n",
      "--------------------------------------------------------------------------------------------\n",
      "Intercept                    0.5297      0.253      2.095      0.036         0.034     1.026\n",
      "EDUC                         0.1272      0.017      7.500      0.000         0.094     0.160\n",
      "EXPER                        0.0630      0.011      5.536      0.000         0.041     0.085\n",
      "np.power(EXPER, 2)          -0.0007    9.2e-05     -7.759      0.000        -0.001    -0.001\n",
      "np.multiply(EXPER, EDUC)    -0.0013      0.001     -2.077      0.038        -0.003 -7.28e-05\n",
      "==============================================================================\n",
      "Omnibus:                       20.647   Durbin-Watson:                   2.025\n",
      "Prob(Omnibus):                  0.000   Jarque-Bera (JB):               36.592\n",
      "Skew:                          -0.116   Prob(JB):                     1.13e-08\n",
      "Kurtosis:                       3.908   Cond. No.                     1.70e+04\n",
      "==============================================================================\n",
      "\n",
      "Warnings:\n",
      "[1] Standard Errors are heteroscedasticity robust (HC1)\n",
      "[2] The condition number is large, 1.7e+04. This might indicate that there are\n",
      "strong multicollinearity or other numerical problems.\n"
     ]
    }
   ],
   "source": [
    "print(m20.get_robustcov_results().summary())"
   ]
  },
  {
   "cell_type": "markdown",
   "metadata": {},
   "source": [
    "## 21)Añadir la variable MARRIED al modelo en 20) y reestimarlo. Manteniendo constantes la educación y la experiencia, ¿tienen salarios más altos los trabajadores casados? Utilizando un nivel de significación del 1% contrastar la hipótesis nula de que los salarios de los casados son menores que los de los solteros, frente a la alternativa de que son mayores."
   ]
  },
  {
   "cell_type": "code",
   "execution_count": 64,
   "metadata": {
    "collapsed": true
   },
   "outputs": [],
   "source": [
    "f21 = f20 + '+ MARRIED'\n",
    "m21 = ols(f21, d).fit()"
   ]
  },
  {
   "cell_type": "code",
   "execution_count": 65,
   "metadata": {
    "collapsed": false
   },
   "outputs": [
    {
     "name": "stdout",
     "output_type": "stream",
     "text": [
      "                            OLS Regression Results                            \n",
      "==============================================================================\n",
      "Dep. Variable:            np.log(SAL)   R-squared:                       0.246\n",
      "Model:                            OLS   Adj. R-squared:                  0.242\n",
      "Method:                 Least Squares   F-statistic:                     69.11\n",
      "Date:                Wed, 11 Nov 2015   Prob (F-statistic):           4.41e-62\n",
      "Time:                        15:53:07   Log-Likelihood:                -733.84\n",
      "No. Observations:                1000   AIC:                             1480.\n",
      "Df Residuals:                     994   BIC:                             1509.\n",
      "Df Model:                           5                                         \n",
      "Covariance Type:                  HC1                                         \n",
      "============================================================================================\n",
      "                               coef    std err          t      P>|t|      [95.0% Conf. Int.]\n",
      "--------------------------------------------------------------------------------------------\n",
      "Intercept                    0.5411      0.254      2.128      0.034         0.042     1.040\n",
      "EDUC                         0.1261      0.017      7.394      0.000         0.093     0.160\n",
      "EXPER                        0.0614      0.012      5.296      0.000         0.039     0.084\n",
      "np.power(EXPER, 2)          -0.0007   9.56e-05     -7.255      0.000        -0.001    -0.001\n",
      "np.multiply(EXPER, EDUC)    -0.0013      0.001     -2.051      0.041        -0.003 -5.63e-05\n",
      "MARRIED                      0.0403      0.034      1.188      0.235        -0.026     0.107\n",
      "==============================================================================\n",
      "Omnibus:                       22.624   Durbin-Watson:                   2.030\n",
      "Prob(Omnibus):                  0.000   Jarque-Bera (JB):               41.035\n",
      "Skew:                          -0.129   Prob(JB):                     1.23e-09\n",
      "Kurtosis:                       3.958   Cond. No.                     1.70e+04\n",
      "==============================================================================\n",
      "\n",
      "Warnings:\n",
      "[1] Standard Errors are heteroscedasticity robust (HC1)\n",
      "[2] The condition number is large, 1.7e+04. This might indicate that there are\n",
      "strong multicollinearity or other numerical problems.\n"
     ]
    }
   ],
   "source": [
    "print(m21.get_robustcov_results().summary())"
   ]
  },
  {
   "cell_type": "code",
   "execution_count": 67,
   "metadata": {
    "collapsed": false
   },
   "outputs": [],
   "source": [
    "e = 1/100\n",
    "se = m21.get_robustcov_results().bse[-1]\n",
    "b = m21.get_robustcov_results().params[-1]\n",
    "t = b / se"
   ]
  },
  {
   "cell_type": "code",
   "execution_count": 68,
   "metadata": {
    "collapsed": false
   },
   "outputs": [
    {
     "data": {
      "text/plain": [
       "1.1877"
      ]
     },
     "execution_count": 68,
     "metadata": {},
     "output_type": "execute_result"
    }
   ],
   "source": [
    "t"
   ]
  },
  {
   "cell_type": "code",
   "execution_count": 70,
   "metadata": {
    "collapsed": false
   },
   "outputs": [
    {
     "data": {
      "text/plain": [
       "2.3263"
      ]
     },
     "execution_count": 70,
     "metadata": {},
     "output_type": "execute_result"
    }
   ],
   "source": [
    "sns.stats.norm.ppf(1-e)"
   ]
  },
  {
   "cell_type": "markdown",
   "metadata": {},
   "source": [
    "# 22) Hacer un gráfico con los residuos del modelo en 20) contra los dos valores de MARRIED. ¿Hay evidencia de heterocedasticidad?"
   ]
  },
  {
   "cell_type": "code",
   "execution_count": 75,
   "metadata": {
    "collapsed": false
   },
   "outputs": [
    {
     "data": {
      "text/plain": [
       "<matplotlib.collections.PathCollection at 0x113402470>"
      ]
     },
     "execution_count": 75,
     "metadata": {},
     "output_type": "execute_result"
    },
    {
     "name": "stderr",
     "output_type": "stream",
     "text": [
      "/Users/mmngreco/Virtualenvs/ipynb/lib/python3.5/site-packages/matplotlib/collections.py:590: FutureWarning: elementwise comparison failed; returning scalar instead, but in the future will perform elementwise comparison\n",
      "  if self._edgecolors == str('face'):\n"
     ]
    },
    {
     "data": {
      "image/png": "[encoded data removed]",
      "text/plain": [
       "<matplotlib.figure.Figure at 0x113402828>"
      ]
     },
     "metadata": {},
     "output_type": "display_data"
    }
   ],
   "source": [
    "plt.scatter(m21.get_robustcov_results().resid, d.MARRIED)"
   ]
  },
  {
   "cell_type": "markdown",
   "metadata": {},
   "source": [
    "# 23) Estimar el modelo en 20) dos veces‐la primera, utilizando sólo la información para los casados y la segunda solo la información para los solteros. Contrastar la heterocedasticidad con Goldfeld‐Quandt utilizando el nivel del 5%."
   ]
  },
  {
   "cell_type": "code",
   "execution_count": 83,
   "metadata": {
    "collapsed": true
   },
   "outputs": [],
   "source": [
    "df = d[d.MARRIED == 1]\n",
    "m23_casados = ols(f20, df).fit()\n",
    "df = d[d.MARRIED == 0]\n",
    "m23_solteros = ols(f20, df).fit()"
   ]
  },
  {
   "cell_type": "code",
   "execution_count": 84,
   "metadata": {
    "collapsed": false
   },
   "outputs": [
    {
     "name": "stdout",
     "output_type": "stream",
     "text": [
      "                            OLS Regression Results                            \n",
      "==============================================================================\n",
      "Dep. Variable:            np.log(SAL)   R-squared:                       0.211\n",
      "Model:                            OLS   Adj. R-squared:                  0.205\n",
      "Method:                 Least Squares   F-statistic:                     38.48\n",
      "Date:                Wed, 11 Nov 2015   Prob (F-statistic):           1.48e-28\n",
      "Time:                        16:15:11   Log-Likelihood:                -458.85\n",
      "No. Observations:                 581   AIC:                             927.7\n",
      "Df Residuals:                     576   BIC:                             949.5\n",
      "Df Model:                           4                                         \n",
      "Covariance Type:            nonrobust                                         \n",
      "============================================================================================\n",
      "                               coef    std err          t      P>|t|      [95.0% Conf. Int.]\n",
      "--------------------------------------------------------------------------------------------\n",
      "Intercept                    0.9197      0.356      2.585      0.010         0.221     1.619\n",
      "EDUC                         0.1008      0.022      4.543      0.000         0.057     0.144\n",
      "EXPER                        0.0507      0.015      3.396      0.001         0.021     0.080\n",
      "np.power(EXPER, 2)          -0.0007      0.000     -5.141      0.000        -0.001    -0.000\n",
      "np.multiply(EXPER, EDUC)    -0.0005      0.001     -0.618      0.537        -0.002     0.001\n",
      "==============================================================================\n",
      "Omnibus:                       31.631   Durbin-Watson:                   2.003\n",
      "Prob(Omnibus):                  0.000   Jarque-Bera (JB):               55.416\n",
      "Skew:                          -0.376   Prob(JB):                     9.26e-13\n",
      "Kurtosis:                       4.313   Cond. No.                     1.99e+04\n",
      "==============================================================================\n",
      "\n",
      "Warnings:\n",
      "[1] Standard Errors assume that the covariance matrix of the errors is correctly specified.\n",
      "[2] The condition number is large, 1.99e+04. This might indicate that there are\n",
      "strong multicollinearity or other numerical problems.\n"
     ]
    }
   ],
   "source": [
    "print(m23_casados.summary())"
   ]
  },
  {
   "cell_type": "code",
   "execution_count": 85,
   "metadata": {
    "collapsed": false
   },
   "outputs": [
    {
     "name": "stdout",
     "output_type": "stream",
     "text": [
      "                            OLS Regression Results                            \n",
      "==============================================================================\n",
      "Dep. Variable:            np.log(SAL)   R-squared:                       0.275\n",
      "Model:                            OLS   Adj. R-squared:                  0.268\n",
      "Method:                 Least Squares   F-statistic:                     39.32\n",
      "Date:                Wed, 11 Nov 2015   Prob (F-statistic):           6.53e-28\n",
      "Time:                        16:15:11   Log-Likelihood:                -267.89\n",
      "No. Observations:                 419   AIC:                             545.8\n",
      "Df Residuals:                     414   BIC:                             566.0\n",
      "Df Model:                           4                                         \n",
      "Covariance Type:            nonrobust                                         \n",
      "============================================================================================\n",
      "                               coef    std err          t      P>|t|      [95.0% Conf. Int.]\n",
      "--------------------------------------------------------------------------------------------\n",
      "Intercept                    0.1975      0.294      0.671      0.503        -0.381     0.776\n",
      "EDUC                         0.1513      0.019      7.789      0.000         0.113     0.189\n",
      "EXPER                        0.0728      0.013      5.733      0.000         0.048     0.098\n",
      "np.power(EXPER, 2)          -0.0007      0.000     -5.880      0.000        -0.001    -0.000\n",
      "np.multiply(EXPER, EDUC)    -0.0021      0.001     -3.280      0.001        -0.003    -0.001\n",
      "==============================================================================\n",
      "Omnibus:                       10.349   Durbin-Watson:                   1.908\n",
      "Prob(Omnibus):                  0.006   Jarque-Bera (JB):               10.578\n",
      "Skew:                           0.388   Prob(JB):                      0.00505\n",
      "Kurtosis:                       3.054   Cond. No.                     1.49e+04\n",
      "==============================================================================\n",
      "\n",
      "Warnings:\n",
      "[1] Standard Errors assume that the covariance matrix of the errors is correctly specified.\n",
      "[2] The condition number is large, 1.49e+04. This might indicate that there are\n",
      "strong multicollinearity or other numerical problems.\n"
     ]
    }
   ],
   "source": [
    "print(m23_solteros.summary())"
   ]
  },
  {
   "cell_type": "code",
   "execution_count": 97,
   "metadata": {
    "collapsed": false
   },
   "outputs": [],
   "source": [
    "df1 = (m23_casados.nobs-len(m23_casados.params))\n",
    "df2 = (m23_solteros.nobs-len(m23_solteros.params))\n",
    "a = m23_casados.ssr / df1\n",
    "b = m23_solteros.ssr / df2\n",
    "\n",
    "gq = a / b"
   ]
  },
  {
   "cell_type": "code",
   "execution_count": 98,
   "metadata": {
    "collapsed": false
   },
   "outputs": [
    {
     "data": {
      "text/plain": [
       "(1.3464, 0.8616)"
      ]
     },
     "execution_count": 98,
     "metadata": {},
     "output_type": "execute_result"
    }
   ],
   "source": [
    "e = 0.05\n",
    "f_value = sns.stats.f.ppf(e, df1, df2)\n",
    "gq, f_value"
   ]
  },
  {
   "cell_type": "markdown",
   "metadata": {},
   "source": [
    "# 24) Hacer gráficos de los residuos del modelo en 20) contra EDUC y contra EXPER. ¿Qué sugieren?"
   ]
  },
  {
   "cell_type": "code",
   "execution_count": 103,
   "metadata": {
    "collapsed": false
   },
   "outputs": [
    {
     "data": {
      "text/plain": [
       "<matplotlib.collections.PathCollection at 0x113be05c0>"
      ]
     },
     "execution_count": 103,
     "metadata": {},
     "output_type": "execute_result"
    },
    {
     "name": "stderr",
     "output_type": "stream",
     "text": [
      "/Users/mmngreco/Virtualenvs/ipynb/lib/python3.5/site-packages/matplotlib/collections.py:590: FutureWarning: elementwise comparison failed; returning scalar instead, but in the future will perform elementwise comparison\n",
      "  if self._edgecolors == str('face'):\n"
     ]
    },
    {
     "data": {
      "image/png": "[encoded data removed]",
      "text/plain": [
       "<matplotlib.figure.Figure at 0x113b96a58>"
      ]
     },
     "metadata": {},
     "output_type": "display_data"
    }
   ],
   "source": [
    "plt.scatter(d.EDUC, m20.resid)"
   ]
  },
  {
   "cell_type": "code",
   "execution_count": 104,
   "metadata": {
    "collapsed": false
   },
   "outputs": [
    {
     "data": {
      "text/plain": [
       "<matplotlib.collections.PathCollection at 0x113d09da0>"
      ]
     },
     "execution_count": 104,
     "metadata": {},
     "output_type": "execute_result"
    },
    {
     "name": "stderr",
     "output_type": "stream",
     "text": [
      "/Users/mmngreco/Virtualenvs/ipynb/lib/python3.5/site-packages/matplotlib/collections.py:590: FutureWarning: elementwise comparison failed; returning scalar instead, but in the future will perform elementwise comparison\n",
      "  if self._edgecolors == str('face'):\n"
     ]
    },
    {
     "data": {
      "image/png": "[encoded data removed]",
      "text/plain": [
       "<matplotlib.figure.Figure at 0x113c5c668>"
      ]
     },
     "metadata": {},
     "output_type": "display_data"
    }
   ],
   "source": [
    "plt.scatter(d.EXPER, m20.resid)"
   ]
  },
  {
   "cell_type": "markdown",
   "metadata": {},
   "source": [
    "# 25)Utilizando el contraste de Breusch‐Pagan contrastar la heterocedasticidad suponiendo que la varianza depende de EDUC, EXPER y MARRIED. ¿A qué conclusión se llega?"
   ]
  },
  {
   "cell_type": "code",
   "execution_count": 131,
   "metadata": {
    "collapsed": false
   },
   "outputs": [
    {
     "data": {
      "text/plain": [
       "(14.6453, 0.0021, 4.9345, 0.0021)"
      ]
     },
     "execution_count": 131,
     "metadata": {},
     "output_type": "execute_result"
    }
   ],
   "source": [
    "het_exog = np.hstack((m20.model.exog[:,:3], np.array(d.MARRIED).reshape(len(d.MARRIED),1)))\n",
    "\n",
    "sms.het_breushpagan(m20.resid, het_exog)"
   ]
  },
  {
   "cell_type": "code",
   "execution_count": null,
   "metadata": {
    "collapsed": true
   },
   "outputs": [],
   "source": []
  }
 ],
 "metadata": {
  "kernelspec": {
   "display_name": "Python 3",
   "language": "python",
   "name": "python3"
  },
  "language_info": {
   "codemirror_mode": {
    "name": "ipython",
    "version": 3
   },
   "file_extension": ".py",
   "mimetype": "text/x-python",
   "name": "python",
   "nbconvert_exporter": "python",
   "pygments_lexer": "ipython3",
   "version": "3.5.0"
  }
 },
 "nbformat": 4,
 "nbformat_minor": 0
}
